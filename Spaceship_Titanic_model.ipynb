{
 "cells": [
  {
   "cell_type": "code",
   "execution_count": null,
   "metadata": {
    "colab": {
     "base_uri": "https://localhost:8080/"
    },
    "id": "aTJCzUKGOClS",
    "outputId": "6729bbc4-f0b5-48a9-dea0-0cd166f16276"
   },
   "outputs": [
    {
     "name": "stdout",
     "output_type": "stream",
     "text": [
      "Requirement already satisfied: catboost in /usr/local/lib/python3.10/dist-packages (1.2.7)\n",
      "Requirement already satisfied: graphviz in /usr/local/lib/python3.10/dist-packages (from catboost) (0.20.3)\n",
      "Requirement already satisfied: matplotlib in /usr/local/lib/python3.10/dist-packages (from catboost) (3.8.0)\n",
      "Requirement already satisfied: numpy<2.0,>=1.16.0 in /usr/local/lib/python3.10/dist-packages (from catboost) (1.26.4)\n",
      "Requirement already satisfied: pandas>=0.24 in /usr/local/lib/python3.10/dist-packages (from catboost) (2.2.2)\n",
      "Requirement already satisfied: scipy in /usr/local/lib/python3.10/dist-packages (from catboost) (1.13.1)\n",
      "Requirement already satisfied: plotly in /usr/local/lib/python3.10/dist-packages (from catboost) (5.24.1)\n",
      "Requirement already satisfied: six in /usr/local/lib/python3.10/dist-packages (from catboost) (1.16.0)\n",
      "Requirement already satisfied: python-dateutil>=2.8.2 in /usr/local/lib/python3.10/dist-packages (from pandas>=0.24->catboost) (2.8.2)\n",
      "Requirement already satisfied: pytz>=2020.1 in /usr/local/lib/python3.10/dist-packages (from pandas>=0.24->catboost) (2024.2)\n",
      "Requirement already satisfied: tzdata>=2022.7 in /usr/local/lib/python3.10/dist-packages (from pandas>=0.24->catboost) (2024.2)\n",
      "Requirement already satisfied: contourpy>=1.0.1 in /usr/local/lib/python3.10/dist-packages (from matplotlib->catboost) (1.3.1)\n",
      "Requirement already satisfied: cycler>=0.10 in /usr/local/lib/python3.10/dist-packages (from matplotlib->catboost) (0.12.1)\n",
      "Requirement already satisfied: fonttools>=4.22.0 in /usr/local/lib/python3.10/dist-packages (from matplotlib->catboost) (4.55.0)\n",
      "Requirement already satisfied: kiwisolver>=1.0.1 in /usr/local/lib/python3.10/dist-packages (from matplotlib->catboost) (1.4.7)\n",
      "Requirement already satisfied: packaging>=20.0 in /usr/local/lib/python3.10/dist-packages (from matplotlib->catboost) (24.2)\n",
      "Requirement already satisfied: pillow>=6.2.0 in /usr/local/lib/python3.10/dist-packages (from matplotlib->catboost) (11.0.0)\n",
      "Requirement already satisfied: pyparsing>=2.3.1 in /usr/local/lib/python3.10/dist-packages (from matplotlib->catboost) (3.2.0)\n",
      "Requirement already satisfied: tenacity>=6.2.0 in /usr/local/lib/python3.10/dist-packages (from plotly->catboost) (9.0.0)\n"
     ]
    }
   ],
   "source": [
    "!pip install catboost"
   ]
  },
  {
   "cell_type": "code",
   "execution_count": null,
   "metadata": {
    "colab": {
     "base_uri": "https://localhost:8080/"
    },
    "id": "PvNWUZSOlXDs",
    "outputId": "a7fab42c-4020-4292-8fe6-0f206e5490c1"
   },
   "outputs": [
    {
     "name": "stderr",
     "output_type": "stream",
     "text": [
      "/usr/local/lib/python3.10/dist-packages/dask/dataframe/__init__.py:42: FutureWarning: \n",
      "Dask dataframe query planning is disabled because dask-expr is not installed.\n",
      "\n",
      "You can install it with `pip install dask[dataframe]` or `conda install dask`.\n",
      "This will raise in a future version.\n",
      "\n",
      "  warnings.warn(msg, FutureWarning)\n"
     ]
    },
    {
     "name": "stdout",
     "output_type": "stream",
     "text": [
      "Drive already mounted at /content/drive; to attempt to forcibly remount, call drive.mount(\"/content/drive\", force_remount=True).\n"
     ]
    }
   ],
   "source": [
    "import pandas as pd\n",
    "import numpy as np\n",
    "import seaborn as sns\n",
    "from xgboost import XGBClassifier\n",
    "from lightgbm import LGBMClassifier\n",
    "from catboost import CatBoostClassifier\n",
    "from sklearn.metrics import accuracy_score\n",
    "from sklearn.model_selection import train_test_split\n",
    "from sklearn.ensemble import RandomForestClassifier\n",
    "from sklearn.linear_model import LogisticRegression\n",
    "from sklearn.model_selection import GridSearchCV\n",
    "from sklearn.metrics import roc_auc_score, roc_curve\n",
    "import matplotlib.pyplot as plt"
   ]
  },
  {
   "cell_type": "code",
   "execution_count": null,
   "metadata": {
    "id": "pqtEFXH6vJwU"
   },
   "outputs": [],
   "source": [
    "# データの読み込み\n",
    "train = pd.read_csv(\"/data/train_G1.csv\")\n",
    "test = pd.read_csv(\"/data/test_G1.csv\")"
   ]
  },
  {
   "cell_type": "code",
   "execution_count": null,
   "metadata": {
    "id": "bXMm_Y5sIVy1"
   },
   "outputs": [],
   "source": [
    "# データの前処理\n",
    "# 例として欠損値を埋める、カテゴリ変数をエンコーディングする\n",
    "train.fillna(-1, inplace=True)  # 欠損値を埋める\n",
    "test.fillna(-1, inplace=True)\n",
    "\n",
    "# 必要に応じてカテゴリデータのエンコーディング\n",
    "train = pd.get_dummies(train, drop_first=True)\n",
    "test = pd.get_dummies(test, drop_first=True)"
   ]
  },
  {
   "cell_type": "code",
   "execution_count": null,
   "metadata": {
    "id": "i2duPeFGIZbr"
   },
   "outputs": [],
   "source": [
    "# 特徴量とターゲットの分割\n",
    "X = train.drop(columns=['Transported'])  # 特徴量\n",
    "y = train['Transported'].astype(int)  # ターゲット（0と1に変換）"
   ]
  },
  {
   "cell_type": "code",
   "execution_count": null,
   "metadata": {
    "id": "fs4QS8E5Icfn"
   },
   "outputs": [],
   "source": [
    "# データを訓練データと検証データに分割\n",
    "X_train, X_val, y_train, y_val = train_test_split(X, y, test_size=0.2, random_state=42)"
   ]
  },
  {
   "cell_type": "code",
   "execution_count": null,
   "metadata": {
    "colab": {
     "base_uri": "https://localhost:8080/",
     "height": 87
    },
    "id": "XpeXOknClUl_",
    "outputId": "77c89696-9000-4857-c0f7-0d1dd86fab23"
   },
   "outputs": [
    {
     "data": {
      "application/vnd.google.colaboratory.intrinsic+json": {
       "type": "string"
      },
      "text/plain": [
       "'\\n# XGBoost\\nmodel = XGBClassifier(eval_metric=\\'logloss\\', random_state=42)\\nmodel.fit(X_train, y_train)\\n\\n# 検証データで予測\\ny_pred_prob = model.predict_proba(X_val)[:, 1]\\ny_pred = (y_pred_prob > 0.5).astype(bool)\\n\\n# Accuracyの計算\\naccuracy = accuracy_score(y_val, y_pred)\\nprint(f\"Accuracy: {accuracy:.4f}\")\\nAccuracy: 0.7861\\n\\nparam_grid = {\\n    \\'n_estimators\\': [100, 200, 300],\\n    \\'max_depth\\': [3, 5, 7],\\n    \\'learning_rate\\': [0.01, 0.1, 0.2],\\n}\\n\\nmodel = GridSearchCV(\\n    estimator=XGBClassifier(eval_metric=\\'logloss\\', random_state=42),\\n    param_grid=param_grid,\\n    cv=3,\\n    scoring=\\'accuracy\\',\\n    verbose=1\\n)\\n\\nmodel.fit(X_train, y_train)\\n\\n# 検証データで予測\\ny_pred_prob = model.predict_proba(X_val)[:, 1]\\ny_pred = (y_pred_prob > 0.5).astype(bool)\\n\\n# Accuracyの計算\\naccuracy = accuracy_score(y_val, y_pred)\\nprint(f\"Accuracy: {accuracy:.4f}\")\\n'"
      ]
     },
     "execution_count": 7,
     "metadata": {},
     "output_type": "execute_result"
    }
   ],
   "source": [
    "\"\"\"\n",
    "# XGBoost\n",
    "model = XGBClassifier(eval_metric='logloss', random_state=42)\n",
    "model.fit(X_train, y_train)\n",
    "\n",
    "# 検証データで予測\n",
    "y_pred_prob = model.predict_proba(X_val)[:, 1]\n",
    "y_pred = (y_pred_prob > 0.5).astype(bool)\n",
    "\n",
    "# Accuracyの計算\n",
    "accuracy = accuracy_score(y_val, y_pred)\n",
    "print(f\"Accuracy: {accuracy:.4f}\")\n",
    "Accuracy: 0.7861\n",
    "\n",
    "param_grid = {\n",
    "    'n_estimators': [100, 200, 300],\n",
    "    'max_depth': [3, 5, 7],\n",
    "    'learning_rate': [0.01, 0.1, 0.2],\n",
    "}\n",
    "\n"
   ]
  },
  {
   "cell_type": "code",
   "execution_count": null,
   "metadata": {
    "colab": {
     "base_uri": "https://localhost:8080/",
     "height": 53
    },
    "id": "cG1jFNRDsep8",
    "outputId": "d906b6c8-ec2b-4bc7-916c-6ed1f623f84c"
   },
   "outputs": [
    {
     "data": {
      "application/vnd.google.colaboratory.intrinsic+json": {
       "type": "string"
      },
      "text/plain": [
       "'\\n# ランダムフォレスト\\nmodel = RandomForestClassifier(random_state=42)\\nmodel.fit(X_train, y_train)\\n\\n# 検証データで予測\\ny_pred_prob = model.predict_proba(X_val)[:, 1]\\ny_pred = (y_pred_prob > 0.5).astype(bool)\\n\\n# Accuracyの計算\\naccuracy = accuracy_score(y_val, y_pred)\\nprint(f\"Accuracy: {accuracy:.4f}\")\\nAccuracy: 0.7826\\n'"
      ]
     },
     "execution_count": 8,
     "metadata": {},
     "output_type": "execute_result"
    }
   ],
   "source": [
    "\"\"\"\n",
    "# ランダムフォレスト\n",
    "model = RandomForestClassifier(random_state=42)\n",
    "model.fit(X_train, y_train)\n",
    "\n",
    "# 検証データで予測\n",
    "y_pred_prob = model.predict_proba(X_val)[:, 1]\n",
    "y_pred = (y_pred_prob > 0.5).astype(bool)\n",
    "\n",
    "# Accuracyの計算\n",
    "accuracy = accuracy_score(y_val, y_pred)\n",
    "print(f\"Accuracy: {accuracy:.4f}\")\n",
    "Accuracy: 0.7826\n",
    "\"\"\""
   ]
  },
  {
   "cell_type": "code",
   "execution_count": null,
   "metadata": {
    "colab": {
     "base_uri": "https://localhost:8080/",
     "height": 53
    },
    "id": "XblMcNjRlJgc",
    "outputId": "8d337cd9-4f23-4157-a6ae-e07be4e8bdea"
   },
   "outputs": [
    {
     "data": {
      "application/vnd.google.colaboratory.intrinsic+json": {
       "type": "string"
      },
      "text/plain": [
       "'\\n# ロジスティック回帰\\nmodel = LogisticRegression(max_iter=1000, random_state=42)\\nmodel.fit(X_train, y_train)\\n\\n# 検証データで予測\\ny_pred_prob = model.predict_proba(X_val)[:, 1]\\ny_pred = (y_pred_prob > 0.5).astype(bool)\\n\\n# Accuracyの計算\\naccuracy = accuracy_score(y_val, y_pred)\\nprint(f\"Accuracy: {accuracy:.4f}\")\\nAccuracy: 0.7734\\n'"
      ]
     },
     "execution_count": 9,
     "metadata": {},
     "output_type": "execute_result"
    }
   ],
   "source": [
    "\"\"\"\n",
    "# ロジスティック回帰\n",
    "model = LogisticRegression(max_iter=1000, random_state=42)\n",
    "model.fit(X_train, y_train)\n",
    "\n",
    "# 検証データで予測\n",
    "y_pred_prob = model.predict_proba(X_val)[:, 1]\n",
    "y_pred = (y_pred_prob > 0.5).astype(bool)\n",
    "\n",
    "# Accuracyの計算\n",
    "accuracy = accuracy_score(y_val, y_pred)\n",
    "print(f\"Accuracy: {accuracy:.4f}\")\n",
    "Accuracy: 0.7734\n",
    "\"\"\""
   ]
  },
  {
   "cell_type": "code",
   "execution_count": null,
   "metadata": {
    "colab": {
     "base_uri": "https://localhost:8080/",
     "height": 53
    },
    "id": "-UEjRSuZlMKn",
    "outputId": "af5e67be-e81b-4cd2-8e0b-75c503d3ea4c"
   },
   "outputs": [
    {
     "data": {
      "application/vnd.google.colaboratory.intrinsic+json": {
       "type": "string"
      },
      "text/plain": [
       "'\\n# LightGBM\\nmodel = LGBMClassifier(random_state=42)\\nmodel.fit(X_train, y_train)\\n\\n# 検証データで予測\\ny_pred_prob = model.predict_proba(X_val)[:, 1]\\ny_pred = (y_pred_prob > 0.5).astype(bool)\\n\\n# Accuracyの計算\\naccuracy = accuracy_score(y_val, y_pred)\\nprint(f\"Accuracy: {accuracy:.4f}\")\\nAccuracy: 0.7849\\n'"
      ]
     },
     "execution_count": 10,
     "metadata": {},
     "output_type": "execute_result"
    }
   ],
   "source": [
    "\"\"\"\n",
    "# LightGBM\n",
    "model = LGBMClassifier(random_state=42)\n",
    "model.fit(X_train, y_train)\n",
    "\n",
    "# 検証データで予測\n",
    "y_pred_prob = model.predict_proba(X_val)[:, 1]\n",
    "y_pred = (y_pred_prob > 0.5).astype(bool)\n",
    "\n",
    "# Accuracyの計算\n",
    "accuracy = accuracy_score(y_val, y_pred)\n",
    "print(f\"Accuracy: {accuracy:.4f}\")\n",
    "Accuracy: 0.7849\n",
    "\"\"\""
   ]
  },
  {
   "cell_type": "code",
   "execution_count": null,
   "metadata": {
    "colab": {
     "base_uri": "https://localhost:8080/",
     "height": 53
    },
    "id": "CqgAoxO9lN7L",
    "outputId": "4aee3275-8627-42a3-e578-ce297c06198e"
   },
   "outputs": [
    {
     "data": {
      "application/vnd.google.colaboratory.intrinsic+json": {
       "type": "string"
      },
      "text/plain": [
       "'\\n# CatBoost\\nmodel = CatBoostClassifier(verbose=0, random_state=42)\\nmodel.fit(X_train, y_train)\\n\\n# 検証データで予測\\ny_pred_prob = model.predict_proba(X_val)[:, 1]\\ny_pred = (y_pred_prob > 0.5).astype(bool)\\n\\n# Accuracyの計算\\naccuracy = accuracy_score(y_val, y_pred)\\nprint(f\"Accuracy: {accuracy:.4f}\")\\nAccuracy: 0.7844\\n'"
      ]
     },
     "execution_count": 11,
     "metadata": {},
     "output_type": "execute_result"
    }
   ],
   "source": [
    "\"\"\"\n",
    "# CatBoost\n",
    "model = CatBoostClassifier(verbose=0, random_state=42)\n",
    "model.fit(X_train, y_train)\n",
    "\n",
    "# 検証データで予測\n",
    "y_pred_prob = model.predict_proba(X_val)[:, 1]\n",
    "y_pred = (y_pred_prob > 0.5).astype(bool)\n",
    "\n",
    "# Accuracyの計算\n",
    "accuracy = accuracy_score(y_val, y_pred)\n",
    "print(f\"Accuracy: {accuracy:.4f}\")\n",
    "Accuracy: 0.7844\n",
    "\"\"\""
   ]
  },
  {
   "cell_type": "code",
   "execution_count": null,
   "metadata": {
    "colab": {
     "base_uri": "https://localhost:8080/",
     "height": 105
    },
    "id": "zavgbNlflRKo",
    "outputId": "e88e5ee1-287e-4a64-9038-0d49e36b6d7e"
   },
   "outputs": [
    {
     "data": {
      "application/vnd.google.colaboratory.intrinsic+json": {
       "type": "string"
      },
      "text/plain": [
       "'\\n# 不要な列を削除\\ncolumns_to_drop = [\\'PassengerId\\', \\'Name\\', \\'Cabin\\']  # ユニーク値が多い列\\ntrain = train.drop(columns=columns_to_drop)\\ntest = test.drop(columns=columns_to_drop)\\n# 欠損値の処理: 数値列は中央値、カテゴリ列は最頻値で埋める\\nfor column in train.columns:\\n    if train[column].dtype == \\'object\\':  # カテゴリ列\\n        train[column].fillna(train[column].mode()[0], inplace=True)\\n    else:  # 数値列\\n        train[column].fillna(train[column].median(), inplace=True)\\nfor column in test.columns:\\n    if test[column].dtype == \\'object\\':  # カテゴリ列\\n        test[column].fillna(test[column].mode()[0], inplace=True)\\n    else:  # 数値列\\n        test[column].fillna(test[column].median(), inplace=True)\\n\\n# カテゴリ変数をエンコーディング\\ntrain = pd.get_dummies(train, drop_first=True)\\ntest = pd.get_dummies(test, drop_first=True)\\n\\n# 特徴量とターゲットを分ける\\nX = train.drop(columns=[\\'Transported\\'])  # 特徴量\\ny = train[\\'Transported\\'].astype(int)     # ターゲット変数\\n\\n# データを訓練データとテストデータに分割\\nX_train, X_test, y_train, y_test = train_test_split(X, y, test_size=0.2, random_state=42)\\n\\n# モデルリスト\\nmodels = {\\n    \"Logistic Regression\": LogisticRegression(max_iter=1000, random_state=42),\\n    \"Random Forest\": RandomForestClassifier(n_estimators=100, random_state=42),\\n    \"XGBoost\": XGBClassifier(use_label_encoder=False, eval_metric=\\'logloss\\', random_state=42),\\n    \"LightGBM\": LGBMClassifier(random_state=42),\\n    \"CatBoost\": CatBoostClassifier(verbose=0, random_state=42)\\n}\\n\\n# モデルの学習と評価\\nresults = []\\nfor model_name, model in models.items():\\n    # モデルの学習\\n    model.fit(X_train, y_train)\\n\\n    # テストデータで予測\\n    y_pred_prob = model.predict_proba(X_test)[:, 1]  # クラス1の確率\\n    y_pred = (y_pred_prob > 0.5).astype(int)         # 確率を0.5で二値化\\n\\n    # 評価スコア\\n    accuracy = accuracy_score(y_test, y_pred)\\n    roc_auc = roc_auc_score(y_test, y_pred_prob)\\n\\n    # 結果の保存\\n    results.append({\\n        \"Model\": model_name,\\n        \"Accuracy\": accuracy,\\n        \"ROC AUC Score\": roc_auc\\n    })\\n\\n# 結果をデータフレームにまとめて表示\\nresults_df = pd.DataFrame(results)\\nprint(results_df)\\n                 Model  Accuracy  ROC AUC Score\\n0  Logistic Regression  0.775733       0.862424\\n1        Random Forest  0.779183       0.853091\\n2              XGBoost  0.780909       0.863082\\n3             LightGBM  0.784359       0.869271\\n4             CatBoost  0.790109       0.875774\\n'"
      ]
     },
     "execution_count": 12,
     "metadata": {},
     "output_type": "execute_result"
    }
   ],
   "source": [
    "\"\"\"\n",
    "# 不要な列を削除\n",
    "columns_to_drop = ['PassengerId', 'Name', 'Cabin']  # ユニーク値が多い列\n",
    "train = train.drop(columns=columns_to_drop)\n",
    "test = test.drop(columns=columns_to_drop)\n",
    "# 欠損値の処理: 数値列は中央値、カテゴリ列は最頻値で埋める\n",
    "for column in train.columns:\n",
    "    if train[column].dtype == 'object':  # カテゴリ列\n",
    "        train[column].fillna(train[column].mode()[0], inplace=True)\n",
    "    else:  # 数値列\n",
    "        train[column].fillna(train[column].median(), inplace=True)\n",
    "for column in test.columns:\n",
    "    if test[column].dtype == 'object':  # カテゴリ列\n",
    "        test[column].fillna(test[column].mode()[0], inplace=True)\n",
    "    else:  # 数値列\n",
    "        test[column].fillna(test[column].median(), inplace=True)\n",
    "\n",
    "# カテゴリ変数をエンコーディング\n",
    "train = pd.get_dummies(train, drop_first=True)\n",
    "test = pd.get_dummies(test, drop_first=True)\n",
    "\n",
    "# 特徴量とターゲットを分ける\n",
    "X = train.drop(columns=['Transported'])  # 特徴量\n",
    "y = train['Transported'].astype(int)     # ターゲット変数\n",
    "\n",
    "# データを訓練データとテストデータに分割\n",
    "X_train, X_test, y_train, y_test = train_test_split(X, y, test_size=0.2, random_state=42)\n",
    "\n",
    "# モデルリスト\n",
    "models = {\n",
    "    \"Logistic Regression\": LogisticRegression(max_iter=1000, random_state=42),\n",
    "    \"Random Forest\": RandomForestClassifier(n_estimators=100, random_state=42),\n",
    "    \"XGBoost\": XGBClassifier(use_label_encoder=False, eval_metric='logloss', random_state=42),\n",
    "    \"LightGBM\": LGBMClassifier(random_state=42),\n",
    "    \"CatBoost\": CatBoostClassifier(verbose=0, random_state=42)\n",
    "}\n",
    "\n",
    "# モデルの学習と評価\n",
    "results = []\n",
    "for model_name, model in models.items():\n",
    "    # モデルの学習\n",
    "    model.fit(X_train, y_train)\n",
    "\n",
    "    # テストデータで予測\n",
    "    y_pred_prob = model.predict_proba(X_test)[:, 1]  # クラス1の確率\n",
    "    y_pred = (y_pred_prob > 0.5).astype(int)         # 確率を0.5で二値化\n",
    "\n",
    "    # 評価スコア\n",
    "    accuracy = accuracy_score(y_test, y_pred)\n",
    "    roc_auc = roc_auc_score(y_test, y_pred_prob)\n",
    "\n",
    "    # 結果の保存\n",
    "    results.append({\n",
    "        \"Model\": model_name,\n",
    "        \"Accuracy\": accuracy,\n",
    "        \"ROC AUC Score\": roc_auc\n",
    "    })\n",
    "\n",
    "# 結果をデータフレームにまとめて表示\n",
    "results_df = pd.DataFrame(results)\n",
    "print(results_df)\n",
    "                 Model  Accuracy  ROC AUC Score\n",
    "0  Logistic Regression  0.775733       0.862424\n",
    "1        Random Forest  0.779183       0.853091\n",
    "2              XGBoost  0.780909       0.863082\n",
    "3             LightGBM  0.784359       0.869271\n",
    "4             CatBoost  0.790109       0.875774\n",
    "\"\"\""
   ]
  }
 ],
 "metadata": {
  "colab": {
   "provenance": []
  },
  "kernelspec": {
   "display_name": "Python 3",
   "name": "python3"
  },
  "language_info": {
   "name": "python"
  }
 },
 "nbformat": 4,
 "nbformat_minor": 0
}
