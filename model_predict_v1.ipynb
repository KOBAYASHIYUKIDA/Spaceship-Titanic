{
 "cells": [
  {
   "cell_type": "markdown",
   "metadata": {
    "id": "h5nUYIw-5DFr"
   },
   "source": [
    "# Setting"
   ]
  },
  {
   "cell_type": "code",
   "execution_count": 1,
   "metadata": {
    "id": "OU-KtSi55Scw"
   },
   "outputs": [],
   "source": [
    "import pandas as pd\n",
    "df_train = pd.read_csv('train.csv')\n",
    "df_test = pd.read_csv('test.csv')"
   ]
  },
  {
   "cell_type": "code",
   "execution_count": null,
   "metadata": {
    "colab": {
     "base_uri": "https://localhost:8080/",
     "height": 293
    },
    "id": "fzKdbXqP5Y4x",
    "outputId": "d6734578-7db9-40f1-842d-596b45c676b4"
   },
   "outputs": [],
   "source": [
    "df_train.head()"
   ]
  },
  {
   "cell_type": "code",
   "execution_count": null,
   "metadata": {
    "colab": {
     "base_uri": "https://localhost:8080/",
     "height": 206
    },
    "id": "YZkUJ-QH5ewE",
    "outputId": "6df3e122-c36d-4bbe-c094-55bc1c89c061"
   },
   "outputs": [],
   "source": [
    "df_test.head()"
   ]
  },
  {
   "cell_type": "markdown",
   "metadata": {
    "id": "HEr2Ye7I-YYk"
   },
   "source": [
    "# 前処理"
   ]
  },
  {
   "cell_type": "code",
   "execution_count": null,
   "metadata": {
    "colab": {
     "base_uri": "https://localhost:8080/"
    },
    "id": "YinpFsMU5lf2",
    "outputId": "f1576cad-9517-40d7-e9fc-69a04ff6eda1"
   },
   "outputs": [],
   "source": [
    "#Enumerate Homeplanet\n",
    "train = df_train.copy()\n",
    "\n",
    "title_mapping = {\"Europa\": 1, \"Earth\": 2, \"Mars\": 3}\n",
    "train['HomePlanet'] = train['HomePlanet'].map(title_mapping)\n",
    "train['HomePlanet'] = train['HomePlanet'].fillna(0)\n",
    "\n",
    "train[['Cabin_1', 'Cabin_2', 'Cabin_3']] = train['Cabin'].str.split('/', expand=True)\n",
    "train.drop('Cabin', axis=1, inplace=True)\n",
    "\n",
    "cabin_1_mapping = {\"B\": 1, \"F\": 2, \"A\": 3, \"G\": 4, \"E\": 5, \"D\": 6, \"C\": 7, \"T\": 8}\n",
    "train['Cabin_1'] = train['Cabin_1'].map(cabin_1_mapping)\n",
    "train['Cabin_1'] = train['Cabin_1'].fillna(0)\n",
    "\n",
    "cabin_3_mapping = {\"P\": 1, \"S\": 2}\n",
    "train['Cabin_3'] = train['Cabin_3'].map(cabin_3_mapping)\n",
    "train['Cabin_3'] = train['Cabin_3'].fillna(0)\n",
    "\n",
    "train['Cabin_2'] = train['Cabin_2'].fillna(9999)\n",
    "train['Cabin_2'] = train['Cabin_2'].astype(int) + 1\n",
    "train['Cabin_2'] = train['Cabin_2'].replace(10000, 0)\n",
    "\n",
    "\n",
    "train['Fare'] = train[['FoodCourt', 'RoomService', 'ShoppingMall', 'Spa', 'VRDeck']].sum(axis=1)\n",
    "cols = ['FoodCourt', 'RoomService', 'ShoppingMall', 'Spa', 'VRDeck']\n",
    "for col in cols:\n",
    "    train[col] = train[col].fillna(train[col].median())\n",
    "\n",
    "\n",
    "train.loc[train[\"Transported\"] == 1, \"Age\"] = train[train[\"Transported\"] == 1][\"Age\"].fillna(train[train[\"Transported\"] == 1][\"Age\"].mean())\n",
    "train.loc[train[\"Transported\"] == 0, \"Age\"] = train[train[\"Transported\"] == 0][\"Age\"].fillna(train[train[\"Transported\"] == 0][\"Age\"].mean())\n",
    "\n",
    "print(train[\"Age\"].mean())\n",
    "\n",
    "train.drop('Destination', axis=1, inplace=True)\n",
    "\n",
    "vip_mapping = {False: 1, True: 2}\n",
    "train['VIP'] = train['VIP'].map(vip_mapping)\n",
    "train['VIP'] = train['VIP'].fillna(0)\n",
    "\n",
    "cryo_mapping = {False: 1, True: 2}\n",
    "train['CryoSleep'] = train['CryoSleep'].map(cryo_mapping)\n",
    "train['CryoSleep'] = train['CryoSleep'].fillna(0)\n",
    "\n",
    "# 学習用の目的変数を保存\n",
    "y = train['Transported']\n",
    "\n",
    "train.drop(['Name', 'Transported', 'PassengerId'], axis = 1, inplace = True)"
   ]
  },
  {
   "cell_type": "code",
   "execution_count": 5,
   "metadata": {
    "id": "1gihbJDe-alF"
   },
   "outputs": [],
   "source": [
    "#Cleaning Tes\n",
    "test = df_test.copy()\n",
    "title_mapping = {\"Europa\": 1, \"Earth\": 2, \"Mars\": 3}\n",
    "test['HomePlanet'] = test['HomePlanet'].map(title_mapping)\n",
    "test['HomePlanet'] = test['HomePlanet'].fillna(0)\n",
    "\n",
    "test[['Cabin_1', 'Cabin_2', 'Cabin_3']] = test['Cabin'].str.split('/', expand=True)\n",
    "test.drop('Cabin', axis=1, inplace=True)\n",
    "\n",
    "cabin_1_mapping = {\"B\": 1, \"F\": 2, \"A\": 3, \"G\": 4, \"E\": 5, \"D\": 6, \"C\": 7, \"T\": 8}\n",
    "test['Cabin_1'] = test['Cabin_1'].map(cabin_1_mapping)\n",
    "test['Cabin_1'] = test['Cabin_1'].fillna(0)\n",
    "\n",
    "cabin_3_mapping = {\"P\": 1, \"S\": 2}\n",
    "test['Cabin_3'] = test['Cabin_3'].map(cabin_3_mapping)\n",
    "test['Cabin_3'] = test['Cabin_3'].fillna(0)\n",
    "\n",
    "test['Cabin_2'] = test['Cabin_2'].fillna(9999)\n",
    "test['Cabin_2'] = test['Cabin_2'].astype(int) + 1\n",
    "test['Cabin_2'] = test['Cabin_2'].replace(10000, 0)\n",
    "\n",
    "\n",
    "test['Fare'] = test[['FoodCourt', 'RoomService', 'ShoppingMall', 'Spa', 'VRDeck']].sum(axis=1)\n",
    "cols = ['FoodCourt', 'RoomService', 'ShoppingMall', 'Spa', 'VRDeck']\n",
    "for col in cols:\n",
    "    test[col] = test[col].fillna(test[col].median())\n",
    "\n",
    "test['Age'] = test['Age'].fillna(28.827968418500845)\n",
    "\n",
    "test.drop('Destination', axis=1, inplace=True)\n",
    "\n",
    "vip_mapping = {False: 1, True: 2}\n",
    "test['VIP'] = test['VIP'].map(vip_mapping)\n",
    "test['VIP'] = test['VIP'].fillna(0)\n",
    "\n",
    "cryo_mapping = {False: 1, True: 2}\n",
    "test['CryoSleep'] = test['CryoSleep'].map(cryo_mapping)\n",
    "test['CryoSleep'] = test['CryoSleep'].fillna(0)\n",
    "\n",
    "\n",
    "\n",
    "\n",
    "test.drop(['Name', 'PassengerId'], axis = 1, inplace = True)"
   ]
  },
  {
   "cell_type": "code",
   "execution_count": 6,
   "metadata": {
    "id": "YnJAMqgI-y4r"
   },
   "outputs": [],
   "source": [
    "data = df_train.copy()\n",
    "\n",
    "# Step 1: Check for missing values\n",
    "missing_values = data.isnull().sum()\n",
    "\n",
    "# Step 2: Data type conversion and initial transformations\n",
    "# Convert CryoSleep and VIP to boolean\n",
    "data['CryoSleep'] = data['CryoSleep'].map({'True': True, 'False': False})\n",
    "data['VIP'] = data['VIP'].map({'True': True, 'False': False})\n",
    "\n",
    "# Step 3: Feature engineering\n",
    "# Split Cabin into deck, num, and side\n",
    "data[['Deck', 'Num', 'Side']] = data['Cabin'].str.split('/', expand=True)\n",
    "\n",
    "# Split PassengerId into group and number\n",
    "data[['Group', 'GroupNum']] = data['PassengerId'].str.split('_', expand=True)\n",
    "\n",
    "# Create a new feature: Total expenditure\n",
    "data['TotalExpenditure'] = data[['RoomService', 'FoodCourt', 'ShoppingMall', 'Spa', 'VRDeck']].sum(axis=1)\n",
    "\n",
    "# Step 4: Check target distribution\n",
    "target_distribution = data['Transported'].value_counts(normalize=True)\n",
    "\n",
    "# Display the processed dataset overview and results\n",
    "processed_overview = {\n",
    "    \"Missing Values\": missing_values,\n",
    "    \"Target Distribution\": target_distribution,\n",
    "    \"Columns After Feature Engineering\": data.columns.tolist()\n",
    "}"
   ]
  },
  {
   "cell_type": "code",
   "execution_count": 6,
   "metadata": {
    "id": "kixV6fhgGsEM"
   },
   "outputs": [],
   "source": []
  },
  {
   "cell_type": "code",
   "execution_count": 7,
   "metadata": {
    "id": "kwCpNE9nAszU"
   },
   "outputs": [],
   "source": [
    "# trainとtestを保存する\n",
    "train.to_csv('train_v2.csv', index=False)\n",
    "test.to_csv('test_v2.csv', index=False)"
   ]
  },
  {
   "cell_type": "code",
   "execution_count": null,
   "metadata": {
    "colab": {
     "base_uri": "https://localhost:8080/",
     "height": 206
    },
    "id": "nDQPE0E4FiOw",
    "outputId": "b5aaf755-3fa9-4720-ce2e-f9834b36a384"
   },
   "outputs": [],
   "source": [
    "train.head()"
   ]
  },
  {
   "cell_type": "markdown",
   "metadata": {
    "id": "oR2dX1itIAqR"
   },
   "source": [
    "## モデル構築〜予測"
   ]
  },
  {
   "cell_type": "code",
   "execution_count": null,
   "metadata": {
    "colab": {
     "base_uri": "https://localhost:8080/"
    },
    "id": "pbZe4jbbAw4K",
    "outputId": "15d342c7-87cc-4965-a737-dec23a95d535"
   },
   "outputs": [],
   "source": [
    "!pip install catboost\n",
    "!pip install lightgbm\n",
    "!pip install xgboost\n",
    "!pip install scikit-learn"
   ]
  },
  {
   "cell_type": "code",
   "execution_count": null,
   "metadata": {
    "colab": {
     "base_uri": "https://localhost:8080/"
    },
    "id": "q0VtX2Z2E1gr",
    "outputId": "47b5de2b-833e-40ce-9446-e186d172a4f0"
   },
   "outputs": [],
   "source": [
    "import catboost\n",
    "import lightgbm as lgb\n",
    "import xgboost as xgb\n",
    "from sklearn.ensemble import RandomForestClassifier\n",
    "from sklearn.linear_model import LogisticRegression\n",
    "from sklearn.neighbors import KNeighborsClassifier\n",
    "from sklearn.model_selection import train_test_split\n",
    "from sklearn.metrics import accuracy_score"
   ]
  },
  {
   "cell_type": "code",
   "execution_count": 11,
   "metadata": {
    "id": "rtUbhQ7QE1gr"
   },
   "outputs": [],
   "source": [
    "cat = catboost.CatBoostClassifier()\n",
    "lgbm = lgb.LGBMClassifier()\n",
    "xgb = xgb.XGBClassifier()\n",
    "rfc = RandomForestClassifier()\n",
    "lr = LogisticRegression()\n",
    "knn = KNeighborsClassifier()"
   ]
  },
  {
   "cell_type": "code",
   "execution_count": null,
   "metadata": {
    "colab": {
     "base_uri": "https://localhost:8080/"
    },
    "id": "RvCQTKamE1gs",
    "outputId": "986e8cb5-0e3b-4e3c-e5e5-df644784c807"
   },
   "outputs": [],
   "source": [
    "X_train, X_test, y_train, y_test = train_test_split(train, y, test_size=0.3, random_state=42)\n",
    "y_train = y_train.astype(int)\n",
    "\n",
    "# 形状確認\n",
    "print(X_train.shape)\n",
    "print(X_test.shape)\n",
    "print(y_train.shape)\n",
    "print(y_test.shape)"
   ]
  },
  {
   "cell_type": "code",
   "execution_count": null,
   "metadata": {
    "colab": {
     "base_uri": "https://localhost:8080/",
     "height": 1000
    },
    "id": "UYhmq2EDE1gs",
    "outputId": "3245f9c8-b7d1-442e-802c-9a7ae26c0d0b"
   },
   "outputs": [],
   "source": [
    "# 学習\n",
    "cat.fit(X_train, y_train)\n",
    "lgbm.fit(X_train, y_train)\n",
    "xgb.fit(X_train, y_train)\n",
    "rfc.fit(X_train, y_train)\n",
    "lr.fit(X_train, y_train)\n",
    "knn.fit(X_train, y_train)"
   ]
  },
  {
   "cell_type": "code",
   "execution_count": 14,
   "metadata": {
    "id": "Eu2P_10BE1gs"
   },
   "outputs": [],
   "source": [
    "# 予測\n",
    "cat_pred = cat.predict(X_test)\n",
    "lgbm_pred = lgbm.predict(X_test)\n",
    "xgb_pred = xgb.predict(X_test)\n",
    "rfc_pred = rfc.predict(X_test)\n",
    "lr_pred = lr.predict(X_test)\n",
    "knn_pred = knn.predict(X_test)"
   ]
  },
  {
   "cell_type": "code",
   "execution_count": null,
   "metadata": {
    "colab": {
     "base_uri": "https://localhost:8080/"
    },
    "id": "4LGtoJSiE1gs",
    "outputId": "e0672025-4d80-4327-d699-0a5bc75707cc"
   },
   "outputs": [],
   "source": [
    "# それぞれのモデルのaccuracy_scokreをリストにまとめる\n",
    "models = [rfc, lr, knn, cat, lgbm, xgb]\n",
    "scores = []\n",
    "for model in models:\n",
    "    model.fit(X_train, y_train)\n",
    "    y_pred = model.predict(X_test)\n",
    "    score = accuracy_score(y_test, y_pred)\n",
    "    scores.append(score)\n",
    "\n",
    "# scoresを降順にソート\n",
    "sorted_scores = sorted(scores, reverse=True)"
   ]
  },
  {
   "cell_type": "code",
   "execution_count": null,
   "metadata": {
    "colab": {
     "base_uri": "https://localhost:8080/"
    },
    "id": "T7hMxPZME1gs",
    "outputId": "0528fb47-7331-4f31-c4a6-f4c5e9c0b9c3"
   },
   "outputs": [],
   "source": [
    "# scoresをモデル名とともに表示\n",
    "\n",
    "# モデル名とスコアの対応付けを辞書で作成\n",
    "model_names = ['RandomForestClassifier', 'LogisticRegression', 'KNN', 'CatBoost', 'lightGBM', 'XGBoost',]\n",
    "model_scores = dict(zip(model_names, scores))\n",
    "\n",
    "# スコアを降順にソートし、モデル名とともに表示\n",
    "for model_name, score in sorted(model_scores.items(), key=lambda item: item[1], reverse=True):\n",
    "    print(f'{model_name}: {score}')"
   ]
  },
  {
   "cell_type": "code",
   "execution_count": 29,
   "metadata": {
    "id": "LIkQ8qBsM1rv"
   },
   "outputs": [],
   "source": [
    "# テストデータで予測\n",
    "test_pred = lgbm.predict(test)"
   ]
  },
  {
   "cell_type": "code",
   "execution_count": 30,
   "metadata": {
    "id": "4VP_qKmeNBik"
   },
   "outputs": [],
   "source": [
    "# test_predで0の場合はFalse、1の場合はTrueに変換\n",
    "test_pred = test_pred.astype(bool)"
   ]
  },
  {
   "cell_type": "code",
   "execution_count": 31,
   "metadata": {
    "colab": {
     "base_uri": "https://localhost:8080/"
    },
    "id": "FI7R2rhqM8-5",
    "outputId": "dec825c4-bccb-418b-e8a2-3b81ef6efd81"
   },
   "outputs": [
    {
     "data": {
      "text/plain": [
       "(4277,)"
      ]
     },
     "execution_count": 31,
     "metadata": {},
     "output_type": "execute_result"
    }
   ],
   "source": [
    "test_pred.shape"
   ]
  },
  {
   "cell_type": "markdown",
   "metadata": {
    "id": "EfwJYR-GMyee"
   },
   "source": [
    "## 提出データ作成"
   ]
  },
  {
   "cell_type": "code",
   "execution_count": 33,
   "metadata": {
    "id": "sF6HGgpbM1Gb"
   },
   "outputs": [],
   "source": [
    "sample = pd.read_csv('sample_submission.csv')\n",
    "# sampleデータのTransported列にtest_predを代入\n",
    "sample['Transported'] = test_pred"
   ]
  },
  {
   "cell_type": "code",
   "execution_count": 35,
   "metadata": {
    "id": "17jPg9CPNrU7"
   },
   "outputs": [],
   "source": [
    "# データ出力\n",
    "sample.to_csv('submission.csv', index=False)"
   ]
  }
 ],
 "metadata": {
  "colab": {
   "provenance": []
  },
  "kernelspec": {
   "display_name": "Python 3",
   "name": "python3"
  },
  "language_info": {
   "codemirror_mode": {
    "name": "ipython",
    "version": 3
   },
   "file_extension": ".py",
   "mimetype": "text/x-python",
   "name": "python",
   "nbconvert_exporter": "python",
   "pygments_lexer": "ipython3",
   "version": "3.10.9"
  }
 },
 "nbformat": 4,
 "nbformat_minor": 0
}
